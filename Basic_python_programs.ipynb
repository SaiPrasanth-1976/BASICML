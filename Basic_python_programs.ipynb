{
  "nbformat": 4,
  "nbformat_minor": 0,
  "metadata": {
    "colab": {
      "name": "Basic_python_programs.ipynb",
      "provenance": [],
      "authorship_tag": "ABX9TyOtkUUPU37ZtEI86rXQAxcx",
      "include_colab_link": true
    },
    "kernelspec": {
      "name": "python3",
      "display_name": "Python 3"
    },
    "language_info": {
      "name": "python"
    }
  },
  "cells": [
    {
      "cell_type": "markdown",
      "metadata": {
        "id": "view-in-github",
        "colab_type": "text"
      },
      "source": [
        "<a href=\"https://colab.research.google.com/github/SaiPrasanth-1976/BASICML/blob/main/Basic_python_programs.ipynb\" target=\"_parent\"><img src=\"https://colab.research.google.com/assets/colab-badge.svg\" alt=\"Open In Colab\"/></a>"
      ]
    },
    {
      "cell_type": "code",
      "metadata": {
        "id": "vcSvfsVGOK9N"
      },
      "source": [
        ""
      ],
      "execution_count": null,
      "outputs": []
    },
    {
      "cell_type": "markdown",
      "metadata": {
        "id": "G1-ZNIuGO-i5"
      },
      "source": [
        "Basic Python Programs"
      ]
    },
    {
      "cell_type": "markdown",
      "metadata": {
        "id": "jnSKwaX9PAsV"
      },
      "source": [
        "1.Even or odd"
      ]
    },
    {
      "cell_type": "code",
      "metadata": {
        "colab": {
          "base_uri": "https://localhost:8080/"
        },
        "id": "4LsiM4JYPCjH",
        "outputId": "7b7208d9-7711-438c-a147-b56c366c7715"
      },
      "source": [
        " \n",
        "n = int(input())\n",
        "if n%2==0:\n",
        "    print(n,\"is even\")\n",
        "else:\n",
        "    print(n,\"is odd\")"
      ],
      "execution_count": null,
      "outputs": [
        {
          "output_type": "stream",
          "text": [
            "3\n",
            "3 is odd\n"
          ],
          "name": "stdout"
        }
      ]
    },
    {
      "cell_type": "markdown",
      "metadata": {
        "id": "ReKLEZS6PMDR"
      },
      "source": [
        "2.sum of two numbers"
      ]
    },
    {
      "cell_type": "code",
      "metadata": {
        "colab": {
          "base_uri": "https://localhost:8080/"
        },
        "id": "iYn5HfNaPQCR",
        "outputId": "ac2d73db-80ba-4309-f29e-887998f24271"
      },
      "source": [
        "a = int(input())\n",
        "b = int(input())\n",
        "print(a,\"+\",b,\"=\",a+b)"
      ],
      "execution_count": null,
      "outputs": [
        {
          "output_type": "stream",
          "text": [
            "2\n",
            "3\n",
            "2 + 3 = 5\n"
          ],
          "name": "stdout"
        }
      ]
    },
    {
      "cell_type": "markdown",
      "metadata": {
        "id": "qg3uRKKdPm7v"
      },
      "source": [
        "3.Palindrome"
      ]
    },
    {
      "cell_type": "code",
      "metadata": {
        "colab": {
          "base_uri": "https://localhost:8080/"
        },
        "id": "wrWuiBdHPpVv",
        "outputId": "c6daee10-8719-4323-d6df-eb738d281a39"
      },
      "source": [
        "s = str(input())\n",
        "s1 = s.upper()\n",
        "r = s[::-1].upper()\n",
        "if s1==r:\n",
        "    print(s,\"is a palindrome\")\n",
        "else:\n",
        "    print(s,\"is not a palindrome\")"
      ],
      "execution_count": null,
      "outputs": [
        {
          "output_type": "stream",
          "text": [
            "Gg\n",
            "Gg is a palindrome\n"
          ],
          "name": "stdout"
        }
      ]
    }
  ]
}